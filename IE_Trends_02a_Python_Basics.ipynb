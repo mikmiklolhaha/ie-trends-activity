{
  "nbformat": 4,
  "nbformat_minor": 0,
  "metadata": {
    "colab": {
      "name": "IE_Trends_02a_Python_Basics",
      "provenance": [],
      "collapsed_sections": [],
      "authorship_tag": "ABX9TyMxGAMUbwA9dLe6/PQmq1q3",
      "include_colab_link": true
    },
    "kernelspec": {
      "name": "python3",
      "display_name": "Python 3"
    },
    "language_info": {
      "name": "python"
    }
  },
  "cells": [
    {
      "cell_type": "markdown",
      "metadata": {
        "id": "view-in-github",
        "colab_type": "text"
      },
      "source": [
        "<a href=\"https://colab.research.google.com/github/mikmiklolhaha/ie-trends-activity/blob/main/IE_Trends_02a_Python_Basics.ipynb\" target=\"_parent\"><img src=\"https://colab.research.google.com/assets/colab-badge.svg\" alt=\"Open In Colab\"/></a>"
      ]
    },
    {
      "cell_type": "markdown",
      "metadata": {
        "id": "GuTIhCugvsmq"
      },
      "source": [
        "#Python Basics\n"
      ]
    },
    {
      "cell_type": "markdown",
      "metadata": {
        "id": "UXl28EVLxo3g"
      },
      "source": [
        "## All the Programming Fundamentals"
      ]
    },
    {
      "cell_type": "markdown",
      "metadata": {
        "id": "HwSDdeSHw4SA"
      },
      "source": [
        "## Variables\n",
        "\n"
      ]
    },
    {
      "cell_type": "code",
      "metadata": {
        "id": "s84zyQbkxEDx"
      },
      "source": [
        "x=10\n",
        "y=3.14"
      ],
      "execution_count": 19,
      "outputs": []
    },
    {
      "cell_type": "markdown",
      "metadata": {
        "id": "EMh3h5XxxvMe"
      },
      "source": [
        "## Printing"
      ]
    },
    {
      "cell_type": "code",
      "metadata": {
        "colab": {
          "base_uri": "https://localhost:8080/"
        },
        "id": "CG_n9AcLxTKT",
        "outputId": "f14aa1af-dcd4-4797-a6db-f84ff1978993"
      },
      "source": [
        "print(x)"
      ],
      "execution_count": 20,
      "outputs": [
        {
          "output_type": "stream",
          "text": [
            "10\n"
          ],
          "name": "stdout"
        }
      ]
    },
    {
      "cell_type": "markdown",
      "metadata": {
        "id": "DNq0icZ2zGbA"
      },
      "source": [
        "## Operations"
      ]
    },
    {
      "cell_type": "code",
      "metadata": {
        "colab": {
          "base_uri": "https://localhost:8080/"
        },
        "id": "BHwzAusNzOtu",
        "outputId": "c9874cbc-86fd-4f08-9e28-0483a5a9c206"
      },
      "source": [
        "## Addition (also a comment line)\n",
        "z=x+y\n",
        "## Subtract\n",
        "z2=x-y\n",
        "## Multiplication\n",
        "z3=x*y\n",
        "## Division\n",
        "z4=x/y\n",
        "\n",
        "x*(y-10)/5"
      ],
      "execution_count": 30,
      "outputs": [
        {
          "output_type": "execute_result",
          "data": {
            "text/plain": [
              "-13.719999999999999"
            ]
          },
          "metadata": {
            "tags": []
          },
          "execution_count": 30
        }
      ]
    },
    {
      "cell_type": "code",
      "metadata": {
        "id": "J2dHuH0c0M6t"
      },
      "source": [
        "## Exponentiation\n"
      ],
      "execution_count": null,
      "outputs": []
    }
  ]
}