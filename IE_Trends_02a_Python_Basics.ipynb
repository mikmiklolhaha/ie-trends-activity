{
  "nbformat": 4,
  "nbformat_minor": 0,
  "metadata": {
    "colab": {
      "name": "IE_Trends_02a_Python_Basics",
      "provenance": [],
      "collapsed_sections": [],
      "include_colab_link": true
    },
    "kernelspec": {
      "name": "python3",
      "display_name": "Python 3"
    },
    "language_info": {
      "name": "python"
    }
  },
  "cells": [
    {
      "cell_type": "markdown",
      "metadata": {
        "id": "view-in-github",
        "colab_type": "text"
      },
      "source": [
        "<a href=\"https://colab.research.google.com/github/mikmiklolhaha/ie-trends-activity/blob/main/IE_Trends_02a_Python_Basics.ipynb\" target=\"_parent\"><img src=\"https://colab.research.google.com/assets/colab-badge.svg\" alt=\"Open In Colab\"/></a>"
      ]
    },
    {
      "cell_type": "markdown",
      "metadata": {
        "id": "GuTIhCugvsmq"
      },
      "source": [
        "#Python Basics\n"
      ]
    },
    {
      "cell_type": "markdown",
      "metadata": {
        "id": "UXl28EVLxo3g"
      },
      "source": [
        "## All the Programming Fundamentals"
      ]
    },
    {
      "cell_type": "markdown",
      "metadata": {
        "id": "HwSDdeSHw4SA"
      },
      "source": [
        "## Variables\n",
        "\n"
      ]
    },
    {
      "cell_type": "code",
      "metadata": {
        "id": "s84zyQbkxEDx"
      },
      "source": [
        "x=10\n",
        "y=3.14"
      ],
      "execution_count": 31,
      "outputs": []
    },
    {
      "cell_type": "markdown",
      "metadata": {
        "id": "EMh3h5XxxvMe"
      },
      "source": [
        "## Printing"
      ]
    },
    {
      "cell_type": "code",
      "metadata": {
        "colab": {
          "base_uri": "https://localhost:8080/"
        },
        "id": "CG_n9AcLxTKT",
        "outputId": "0f81a1cc-dec1-4deb-f2e9-71e0ee328896"
      },
      "source": [
        "print(x)"
      ],
      "execution_count": 32,
      "outputs": [
        {
          "output_type": "stream",
          "text": [
            "10\n"
          ],
          "name": "stdout"
        }
      ]
    },
    {
      "cell_type": "markdown",
      "metadata": {
        "id": "DNq0icZ2zGbA"
      },
      "source": [
        "## Operations"
      ]
    },
    {
      "cell_type": "code",
      "metadata": {
        "id": "BHwzAusNzOtu",
        "colab": {
          "base_uri": "https://localhost:8080/"
        },
        "outputId": "a7d1bb5d-b754-4f5e-903e-5354d8cf7972"
      },
      "source": [
        "## Addition (also a comment line)\n",
        "z=x+y\n",
        "## Subtract\n",
        "z2=x-y\n",
        "## Multiplication\n",
        "z3=x*y\n",
        "## Division\n",
        "z4=x/y\n",
        "\n",
        "z"
      ],
      "execution_count": 33,
      "outputs": [
        {
          "output_type": "execute_result",
          "data": {
            "text/plain": [
              "13.14"
            ]
          },
          "metadata": {
            "tags": []
          },
          "execution_count": 33
        }
      ]
    },
    {
      "cell_type": "markdown",
      "metadata": {
        "id": "ERpkN_qn0ebc"
      },
      "source": [
        "Coding $2^5$"
      ]
    },
    {
      "cell_type": "code",
      "metadata": {
        "id": "J2dHuH0c0M6t",
        "colab": {
          "base_uri": "https://localhost:8080/"
        },
        "outputId": "f2792da8-0d26-44fd-9a50-5e7739887e69"
      },
      "source": [
        "## Exponentiation\n",
        "z5=2**5\n",
        "## Floor Division\n",
        "z6=19/2\n",
        "print(z6)\n",
        "## Trigonometric\n",
        "import math\n",
        "# math.sin(y)+math.cos(x)"
      ],
      "execution_count": 34,
      "outputs": [
        {
          "output_type": "stream",
          "text": [
            "9.5\n"
          ],
          "name": "stdout"
        }
      ]
    },
    {
      "cell_type": "markdown",
      "metadata": {
        "id": "iDzvy2GM27Xr"
      },
      "source": [
        "$\\sin(y)+\\cos(x)$"
      ]
    },
    {
      "cell_type": "markdown",
      "metadata": {
        "id": "4MP-uDM02zXa"
      },
      "source": [
        "## Loops"
      ]
    },
    {
      "cell_type": "markdown",
      "metadata": {
        "id": "FRrnmxRA4YZH"
      },
      "source": [
        "$\\sum {sin(i)+\\cos(i+\\pi)}$"
      ]
    },
    {
      "cell_type": "code",
      "metadata": {
        "colab": {
          "base_uri": "https://localhost:8080/"
        },
        "id": "gOANKpff22F8",
        "outputId": "51512fa8-0d7c-4de0-eb88-2f63ab37c753"
      },
      "source": [
        "## Summation\n",
        "tz=0\n",
        "for i in range(0,10): ##range(min,max) --> min to max-1\n",
        "  tz+=math.sin(i)+math.cos(i+math.pi)\n",
        "  print(tz)"
      ],
      "execution_count": 35,
      "outputs": [
        {
          "output_type": "stream",
          "text": [
            "-1.0\n",
            "-0.6988313210602433\n",
            "0.6266129423125808\n",
            "1.7577254469728933\n",
            "1.6545665725285772\n",
            "0.41198011240221266\n",
            "-0.827605672447079\n",
            "-0.9245213280715947\n",
            "0.2103369523604004\n",
            "1.533585699486834\n"
          ],
          "name": "stdout"
        }
      ]
    },
    {
      "cell_type": "markdown",
      "metadata": {
        "id": "dK4MAWVI2BEK"
      },
      "source": [
        "## Functions"
      ]
    },
    {
      "cell_type": "markdown",
      "metadata": {
        "id": "1csjesQx6G4y"
      },
      "source": [
        "$S - i^2$"
      ]
    },
    {
      "cell_type": "code",
      "metadata": {
        "colab": {
          "base_uri": "https://localhost:8080/"
        },
        "id": "KhPJqVmh57_v",
        "outputId": "2f810a51-5608-45b1-9c88-cfa06fcccc96"
      },
      "source": [
        "s=0\n",
        "for i in range(0,10):\n",
        "  s+=i\n",
        "  print(equation1(s,i))"
      ],
      "execution_count": 39,
      "outputs": [
        {
          "output_type": "stream",
          "text": [
            "0\n",
            "0\n",
            "-1\n",
            "-3\n",
            "-6\n",
            "-10\n",
            "-15\n",
            "-21\n",
            "-28\n",
            "-36\n"
          ],
          "name": "stdout"
        }
      ]
    },
    {
      "cell_type": "code",
      "metadata": {
        "id": "H-dYtzAL6wht"
      },
      "source": [
        "def equation1(s,i):\n",
        "  return s-i**2"
      ],
      "execution_count": 38,
      "outputs": []
    }
  ]
}